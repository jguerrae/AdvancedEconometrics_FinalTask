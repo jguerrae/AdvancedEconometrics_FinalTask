{
 "cells": [
  {
   "cell_type": "code",
   "execution_count": 1,
   "metadata": {},
   "outputs": [],
   "source": [
    "import subprocess\n",
    "import os\n"
   ]
  },
  {
   "cell_type": "code",
   "execution_count": 5,
   "metadata": {},
   "outputs": [],
   "source": [
    "# Cambiar al directorio deseado\n",
    "# Opción 2: Usa una cadena cruda para evitar que Python interprete caracteres de escape\n",
    "directorio = r\"D:\\CLOUD\\OneDrive - Universidad de los Andes\\0. 2024-1\\2-SEMESTRES\\2023 1\\2-Econometría Av\\6-Trabajo final\\PROCESAMIENTO EMPIRICO\"\n",
    "os.chdir(directorio)"
   ]
  },
  {
   "cell_type": "code",
   "execution_count": null,
   "metadata": {},
   "outputs": [],
   "source": [
    "# Inicializar un nuevo repositorio Git\n",
    "subprocess.run([\"git\", \"init\"])\n",
    "\n",
    "# Agregar todos los archivos al área de staging\n",
    "subprocess.run([\"git\", \"add\", \".\"])\n",
    "\n",
    "# Hacer el primer commit\n",
    "subprocess.run([\"git\", \"commit\", \"-m\", \"commit inicial\"])\n",
    "\n",
    "# Agregar el remoto\n",
    "subprocess.run([\"git\", \"remote\", \"add\", \"origin\", \"github.com/jguerrae/AdvancedEconometrics_FinalTask\"])\n",
    "\n",
    "# Empujar los cambios al remoto, estableciendo la rama master como upstream\n",
    "subprocess.run([\"git\", \"push\", \"-u\", \"origin\", \"master\"])"
   ]
  }
 ],
 "metadata": {
  "kernelspec": {
   "display_name": "base",
   "language": "python",
   "name": "python3"
  },
  "language_info": {
   "codemirror_mode": {
    "name": "ipython",
    "version": 3
   },
   "file_extension": ".py",
   "mimetype": "text/x-python",
   "name": "python",
   "nbconvert_exporter": "python",
   "pygments_lexer": "ipython3",
   "version": "3.8.5"
  }
 },
 "nbformat": 4,
 "nbformat_minor": 2
}
