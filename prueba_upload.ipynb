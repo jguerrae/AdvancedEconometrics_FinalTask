{
 "cells": [
  {
   "cell_type": "code",
   "execution_count": 1,
   "metadata": {},
   "outputs": [],
   "source": [
    "import subprocess\n",
    "import os\n"
   ]
  },
  {
   "cell_type": "code",
   "execution_count": 8,
   "metadata": {},
   "outputs": [
    {
     "data": {
      "text/plain": [
       "CompletedProcess(args=['git', 'push', '-u', 'origin', 'master'], returncode=128)"
      ]
     },
     "execution_count": 8,
     "metadata": {},
     "output_type": "execute_result"
    }
   ],
   "source": [
    "# Cambiar al directorio deseado\n",
    "# Opción 2: Usa una cadena cruda para evitar que Python interprete caracteres de escape\n",
    "directorio = r\"D:\\CLOUD\\OneDrive - Universidad de los Andes\\0. 2024-1\\2-SEMESTRES\\2023 1\\2-Econometría Av\\6-Trabajo final\\PROCESAMIENTO EMPIRICO\"\n",
    "os.chdir(directorio)\n",
    "\n",
    "# Inicializar un nuevo repositorio Git\n",
    "subprocess.run([\"git\", \"init\"])\n",
    "\n",
    "# Agregar todos los archivos al área de staging\n",
    "subprocess.run([\"git\", \"add\", \".\"])\n",
    "\n",
    "# Hacer el primer commit\n",
    "subprocess.run([\"git\", \"commit\", \"-m\", \"commit inicial\"])\n",
    "\n",
    "# Agregar el remoto\n",
    "subprocess.run([\"git\", \"remote\", \"add\", \"origin\", \"github.com/jguerrae/AdvancedEconometrics_FinalTask\"])\n",
    "\n",
    "# Empujar los cambios al remoto, estableciendo la rama master como upstream\n",
    "subprocess.run([\"git\", \"push\", \"-u\", \"origin\", \"master\"])"
   ]
  },
  {
   "cell_type": "code",
   "execution_count": 10,
   "metadata": {},
   "outputs": [
    {
     "name": "stdout",
     "output_type": "stream",
     "text": [
      "Error al ejecutar el comando ['git', 'remote', 'add', 'origin', 'https://github.com/jguerrae/AdvancedEconometrics_FinalTask.git']\n",
      "\n",
      "error: remote origin already exists.\n",
      "\n",
      "Error al ejecutar el comando ['git', 'push', '-u', 'origin', 'master']\n",
      "\n",
      "fatal: 'github.com/jguerrae/AdvancedEconometrics_FinalTask' does not appear to be a git repository\n",
      "fatal: Could not read from remote repository.\n",
      "\n",
      "Please make sure you have the correct access rights\n",
      "and the repository exists.\n",
      "\n"
     ]
    }
   ],
   "source": [
    "import subprocess\n",
    "\n",
    "def run_git_command(command):\n",
    "    try:\n",
    "        result = subprocess.run(command, check=True, stdout=subprocess.PIPE, stderr=subprocess.PIPE, text=True)\n",
    "        print(result.stdout)\n",
    "    except subprocess.CalledProcessError as e:\n",
    "        print(f\"Error al ejecutar el comando {e.cmd}\")\n",
    "        print(e.output)\n",
    "        print(e.stderr)\n",
    "\n",
    "# # Inicializa un nuevo repositorio Git\n",
    "# run_git_command([\"git\", \"init\"])\n",
    "\n",
    "# # Agrega todos los archivos al área de staging\n",
    "# run_git_command([\"git\", \"add\", \".\"])\n",
    "\n",
    "# # Realiza el primer commit\n",
    "# run_git_command([\"git\", \"commit\", \"-m\", \"commit inicial\"])\n",
    "\n",
    "# Agrega el remoto (asegúrate de usar la URL completa, por ejemplo, usando https://)\n",
    "run_git_command([\"git\", \"remote\", \"add\", \"origin\", \"https://github.com/jguerrae/AdvancedEconometrics_FinalTask.git\"])\n",
    "\n",
    "# Empuja los cambios al remoto, estableciendo la rama master como upstream\n",
    "# Nota: si estás usando una versión reciente de Git, la rama principal podría llamarse 'main' en lugar de 'master'\n",
    "run_git_command([\"git\", \"push\", \"-u\", \"origin\", \"master\"])\n"
   ]
  },
  {
   "cell_type": "code",
   "execution_count": null,
   "metadata": {},
   "outputs": [],
   "source": []
  }
 ],
 "metadata": {
  "kernelspec": {
   "display_name": "base",
   "language": "python",
   "name": "python3"
  },
  "language_info": {
   "codemirror_mode": {
    "name": "ipython",
    "version": 3
   },
   "file_extension": ".py",
   "mimetype": "text/x-python",
   "name": "python",
   "nbconvert_exporter": "python",
   "pygments_lexer": "ipython3",
   "version": "3.8.5"
  }
 },
 "nbformat": 4,
 "nbformat_minor": 2
}
