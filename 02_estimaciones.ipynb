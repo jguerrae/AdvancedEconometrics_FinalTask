{
 "cells": [
  {
   "cell_type": "markdown",
   "metadata": {},
   "source": [
    "### Librerias"
   ]
  },
  {
   "cell_type": "code",
   "execution_count": 237,
   "metadata": {},
   "outputs": [],
   "source": [
    "#LIBRERIAS NECESARIAS\n",
    "import pandas as pd\n",
    "import numpy as np\n",
    "import random\n",
    "import warnings\n",
    "warnings.filterwarnings('ignore', category=UserWarning)"
   ]
  },
  {
   "cell_type": "code",
   "execution_count": 238,
   "metadata": {},
   "outputs": [],
   "source": [
    "# Temperatura, lluvia  x día\n",
    "\n",
    "# Variables socioeconómicas x manzana:\n",
    "#     Extraer coordenadas de cada barrio\n",
    "#     Crear un centroido de 1km al rededor de cada barrio\n",
    "#     Imputar el promedio de cada variable dentro de cada centroide"
   ]
  },
  {
   "attachments": {},
   "cell_type": "markdown",
   "metadata": {},
   "source": [
    "### Ordenamiento base econometría"
   ]
  },
  {
   "cell_type": "code",
   "execution_count": 249,
   "metadata": {},
   "outputs": [],
   "source": [
    "dfc = pd.read_csv('1_PANEL_X_DELITOS/0_delitos_totales.csv', encoding=\"latin-1\")"
   ]
  },
  {
   "cell_type": "markdown",
   "metadata": {},
   "source": [
    "#### Correciones"
   ]
  },
  {
   "cell_type": "markdown",
   "metadata": {},
   "source": [
    "Corrección de barrio"
   ]
  },
  {
   "cell_type": "code",
   "execution_count": 250,
   "metadata": {},
   "outputs": [],
   "source": [
    "barrios = dfc[[\"barrio\"]].drop_duplicates().sort_values(by = [\"barrio\"])\n",
    "\n",
    "A = [\"1Âº DE MAYO\",\n",
    "\"BALNERIO HURTADO\",\n",
    "\"CAÃAGUATE\",\n",
    "\"CIUDADELA 450 AÃOS\"\n",
    "\"DIVINO NIÃO\"]\n",
    "\n",
    "B = [\"1º DE MAYO\",\n",
    "\"BALNEARIO HURTADO\",\n",
    "\"CAÑAGUATE\",\n",
    "\"CIUDADELA 450 AÑOS\",\n",
    "\"DIVINO NIÑO\"]\n",
    "\n",
    "for a,b in zip(A,B):\n",
    "    dfc[\"barrio\"] = dfc[\"barrio\"].replace(a,b)\n",
    "\n",
    "barrios = dfc[[\"barrio\"]].drop_duplicates().sort_values(by = [\"barrio\"])"
   ]
  },
  {
   "attachments": {},
   "cell_type": "markdown",
   "metadata": {},
   "source": [
    "Merge de comuna"
   ]
  },
  {
   "cell_type": "code",
   "execution_count": 251,
   "metadata": {},
   "outputs": [],
   "source": [
    "barrios = pd.read_excel(\"barrios.xlsx\"); barrios.columns = [\"barrio\", \"comuna\"]\n",
    "dfc = pd.merge(dfc, barrios, \"left\", \"barrio\")\n",
    "\n",
    "# barrios[\"comuna\"] = [random.randint(1, 7) for _ in range(len(barrios))]\n",
    "#df.comuna = df.barrio"
   ]
  },
  {
   "cell_type": "markdown",
   "metadata": {},
   "source": [
    "#### Filtros"
   ]
  },
  {
   "cell_type": "markdown",
   "metadata": {},
   "source": [
    "Filtro de moviles"
   ]
  },
  {
   "cell_type": "code",
   "execution_count": 252,
   "metadata": {},
   "outputs": [],
   "source": [
    "df = dfc.copy()"
   ]
  },
  {
   "cell_type": "code",
   "execution_count": 253,
   "metadata": {},
   "outputs": [],
   "source": [
    "MOVIL = \"TODOS\"\n",
    "# MOVIL = \"MOTO\"\n",
    "\n",
    "if MOVIL == \"MOTO\":\n",
    "    df = df[(df[\"móvil agresor\"]==\"CONDUCTOR MOTOCICLETA\") |\n",
    "            (df[\"móvil agresor\"]==\"PASAJERO MOTOCICLETA\")]"
   ]
  },
  {
   "cell_type": "markdown",
   "metadata": {},
   "source": [
    "Filtro de delito"
   ]
  },
  {
   "cell_type": "code",
   "execution_count": 254,
   "metadata": {},
   "outputs": [],
   "source": [
    "# DICCIONARIO\n",
    "# Todos = 0\n",
    "# Homicidios en accidentes de tránsito = 1 \n",
    "# Hurtos autos = 2\n",
    "# Hurtos a comercio = 3\n",
    "# Hurtos a residencias = 4 \n",
    "# Homicidios = 5 \n",
    "# Hurtos personas = 6\n",
    "# Lesiones transito = 7\n",
    "\n",
    "numero = 0\n",
    "seleccion = [\"T\", \"HT\", \"HA\", \"HC\", \"HR\", \"H\", \"HP\", \"LT\"]\n",
    "delito = seleccion[numero]\n",
    "\n",
    "if numero>0 and MOVIL!=\"MOTO\":\n",
    "    df = df[df.tipo == delito]\n"
   ]
  },
  {
   "cell_type": "markdown",
   "metadata": {},
   "source": [
    "#### Ordenamiento Panel"
   ]
  },
  {
   "cell_type": "markdown",
   "metadata": {},
   "source": [
    "Panel"
   ]
  },
  {
   "cell_type": "code",
   "execution_count": 255,
   "metadata": {},
   "outputs": [],
   "source": [
    "panel = df.groupby([\"fecha\", \"comuna\"])[[\"cantidad\"]].sum().reset_index()\n",
    "panel.fecha = pd.to_datetime(panel.fecha)"
   ]
  },
  {
   "cell_type": "markdown",
   "metadata": {},
   "source": [
    "Balancear panel"
   ]
  },
  {
   "cell_type": "code",
   "execution_count": 256,
   "metadata": {},
   "outputs": [],
   "source": [
    "from datetime import date, timedelta\n",
    "from itertools import product"
   ]
  },
  {
   "cell_type": "code",
   "execution_count": 257,
   "metadata": {},
   "outputs": [],
   "source": [
    "date_range = pd.date_range(start=panel.fecha.iloc[0], \n",
    "                           end=panel.fecha.iloc[-1], \n",
    "                           freq='D')\n",
    "\n",
    "barrios = panel.comuna.unique()\n",
    "\n",
    "combinations = product(date_range, barrios)\n",
    "\n",
    "data = list(combinations)\n",
    "data = pd.DataFrame(data, columns=['fecha', 'comuna'])"
   ]
  },
  {
   "cell_type": "code",
   "execution_count": 258,
   "metadata": {},
   "outputs": [],
   "source": [
    "data = pd.merge(data, panel[[\"comuna\"]].drop_duplicates(\"comuna\"), \"left\", ['comuna'])\n",
    "data = pd.merge(data, panel, \"left\", ['fecha', 'comuna'])\n",
    "data.cantidad = data.cantidad.fillna(0)"
   ]
  },
  {
   "cell_type": "code",
   "execution_count": null,
   "metadata": {},
   "outputs": [],
   "source": [
    "# data = panel.copy()"
   ]
  },
  {
   "cell_type": "markdown",
   "metadata": {},
   "source": [
    "#### Creación de variables"
   ]
  },
  {
   "cell_type": "markdown",
   "metadata": {},
   "source": [
    "Dia de la semana"
   ]
  },
  {
   "cell_type": "code",
   "execution_count": null,
   "metadata": {},
   "outputs": [],
   "source": [
    "from datetime import datetime\n",
    "data['dia'] = data['fecha'].apply(lambda x: x.strftime('%A'))"
   ]
  },
  {
   "attachments": {},
   "cell_type": "markdown",
   "metadata": {},
   "source": [
    "Crear controles de dias: dias antes y después del tratamiento, festivos"
   ]
  },
  {
   "cell_type": "code",
   "execution_count": null,
   "metadata": {},
   "outputs": [],
   "source": [
    "from datetime import datetime\n",
    "\n",
    "def dias_entre_fechas(fecha1, fecha2):\n",
    "    # Convertir las fechas en objetos datetime si son cadenas\n",
    "    if isinstance(fecha1, str):\n",
    "        fecha1 = datetime.strptime(fecha1, \"%Y-%m-%d\")\n",
    "    if isinstance(fecha2, str):\n",
    "        fecha2 = datetime.strptime(fecha2, \"%Y-%m-%d\")\n",
    "    \n",
    "    # Calcular la diferencia entre las dos fechas\n",
    "    diferencia = fecha2 - fecha1\n",
    "\n",
    "    # Devolver la cantidad de días como un número entero\n",
    "    return diferencia.days"
   ]
  },
  {
   "cell_type": "code",
   "execution_count": null,
   "metadata": {},
   "outputs": [],
   "source": [
    "rangot = data[[\"fecha\"]].drop_duplicates().reset_index(drop = True)\n",
    "\n",
    "rangot[\"fecha_centrada\"] = rangot[\"fecha\"].apply(\n",
    "    lambda x: \n",
    "    dias_entre_fechas(pd.to_datetime(\"2014-07-26\"), x))\n",
    "\n",
    "data = pd.merge(data, rangot, \"left\", \"fecha\")"
   ]
  },
  {
   "attachments": {},
   "cell_type": "markdown",
   "metadata": {},
   "source": [
    "Restringir base: 2 años y dos años después"
   ]
  },
  {
   "cell_type": "code",
   "execution_count": null,
   "metadata": {},
   "outputs": [],
   "source": [
    "data = data[data.fecha_centrada>-731]\n",
    "data = data[data.fecha_centrada<732]"
   ]
  },
  {
   "attachments": {},
   "cell_type": "markdown",
   "metadata": {},
   "source": [
    "Variables"
   ]
  },
  {
   "cell_type": "code",
   "execution_count": null,
   "metadata": {},
   "outputs": [],
   "source": [
    "data[\"T\"] = data.dia.apply(lambda x: 1 if x == \"Saturday\" else 0)\n",
    "data[\"P\"] = data.fecha_centrada.apply(lambda x: 1 if x>=0 else 0)\n",
    "data[\"TP\"] = data[\"T\"]*data[\"P\"]"
   ]
  },
  {
   "cell_type": "code",
   "execution_count": null,
   "metadata": {},
   "outputs": [],
   "source": [
    "data[\"dian\"] = data['fecha'].map(lambda x: (x.dayofweek + 1) % 7)\n",
    "data[\"mesn\"] = data['fecha'].map(lambda x: (x.month))\n",
    "data[\"semanan\"] = data['fecha'].map(lambda x: (np.ceil(x.day/7).astype(int)))"
   ]
  },
  {
   "cell_type": "markdown",
   "metadata": {},
   "source": [
    "#### Gráfico tendencias paralelas"
   ]
  },
  {
   "attachments": {},
   "cell_type": "markdown",
   "metadata": {},
   "source": [
    "Graficos Tendencias paralelas"
   ]
  },
  {
   "cell_type": "code",
   "execution_count": null,
   "metadata": {},
   "outputs": [],
   "source": [
    "import matplotlib.pyplot as plt\n",
    "data[\"mes\"] = data[\"fecha\"].apply(lambda x: x.replace(day=1))\n",
    "distribucion = data.groupby([\"T\", \"mes\"])[\"cantidad\"].mean().reset_index()\n",
    "control = distribucion[distribucion[\"T\"]==0]\n",
    "tratados = distribucion[distribucion[\"T\"]==1]\n",
    "datet = data[data.fecha_centrada==0][\"fecha\"].iloc[0]"
   ]
  },
  {
   "cell_type": "code",
   "execution_count": null,
   "metadata": {},
   "outputs": [
    {
     "data": {
      "image/png": "[encoded data removed]",
      "text/plain": [
       "<Figure size 576x360 with 1 Axes>"
      ]
     },
     "metadata": {
      "needs_background": "light"
     },
     "output_type": "display_data"
    }
   ],
   "source": [
    "fig, ax = plt.subplots(figsize=(8,5))\n",
    "plt.plot(control[\"mes\"], control[\"cantidad\"], color=\"black\")\n",
    "plt.plot(tratados[\"mes\"], tratados[\"cantidad\"], color=\"gray\")\n",
    "# plt.text(0.98, 0.1, 'resto', horizontalalignment='left',verticalalignment='center', transform=ax.transAxes, color=\"black\")\n",
    "# plt.text(0.98, 0.05, 'sábados', horizontalalignment='left',verticalalignment='center', transform=ax.transAxes, color=\"gray\")\n",
    "# ax.set_xticks(ax.get_xticks()[1::])\n",
    "ax.axvline(datet, color='r', linestyle='--', lw=2)\n",
    "plt.legend([\"Control (no sábados)\", \"Tratados (sábados)\"])\n",
    "plt.xlabel(\"días\")\n",
    "plt.ylabel(\"delitos (promedio)\")\n",
    "# plt.title(\"sábados vs resto de días\")\n",
    "plt.savefig(f\"3_IMAGENES/TP_{MOVIL}_{delito}.jpeg\", dpi = 200)"
   ]
  },
  {
   "attachments": {},
   "cell_type": "markdown",
   "metadata": {},
   "source": [
    "### Estimaciones"
   ]
  },
  {
   "attachments": {},
   "cell_type": "markdown",
   "metadata": {},
   "source": [
    "Librerias"
   ]
  },
  {
   "cell_type": "code",
   "execution_count": null,
   "metadata": {},
   "outputs": [],
   "source": [
    "import statsmodels.api as sm\n",
    "from tqdm import tqdm\n",
    "import seaborn as sns\n",
    "import statsmodels.formula.api as smf\n",
    "from scipy.stats import norm"
   ]
  },
  {
   "cell_type": "markdown",
   "metadata": {},
   "source": [
    "Funciones importantes"
   ]
  },
  {
   "cell_type": "code",
   "execution_count": null,
   "metadata": {},
   "outputs": [],
   "source": [
    "#TABLA FINAL DE REGRESIÓN\n",
    "tabla_reg = pd.DataFrame(columns = [\"TODOS\"])\n",
    "\n",
    "#FUNCIÓN PARA AGREGAR ESTRELLITAS\n",
    "def reemplazar_texto(numero):\n",
    "    texto_original = f\"{numero}\"\n",
    "    if numero < 0.01:\n",
    "        return texto_original.replace(str(numero), '***')\n",
    "    elif numero < 0.05:\n",
    "        return texto_original.replace(str(numero), '**')\n",
    "    elif numero < 0.1:\n",
    "        return texto_original.replace(str(numero), '*')\n",
    "    else:\n",
    "        return ''"
   ]
  },
  {
   "attachments": {},
   "cell_type": "markdown",
   "metadata": {},
   "source": [
    "#### DiD estandar"
   ]
  },
  {
   "cell_type": "code",
   "execution_count": null,
   "metadata": {},
   "outputs": [],
   "source": [
    "Y = data[\"cantidad\"]\n",
    "X = data[[\"T\", \"P\", \"TP\"]]; X = sm.add_constant(X)\n",
    "dd = sm.OLS(Y, X).fit(cov_type='cluster', cov_kwds={'groups': data['comuna']})\n",
    "\n",
    "###TABLA\n",
    "param = round(dd.params[\"TP\"],4)\n",
    "error = round(dd.bse[\"TP\"],4)\n",
    "estrella =  reemplazar_texto(dd.pvalues[\"TP\"])\n",
    "tfinal = f\"{param} ({error}){estrella}\"\n",
    "\n",
    "tabla_reg.loc[\"DD estándar\", \"TODOS\"] = \"\"\n",
    "tabla_reg.loc[\"DD\", \"TODOS\"] = tfinal"
   ]
  },
  {
   "cell_type": "code",
   "execution_count": null,
   "metadata": {},
   "outputs": [
    {
     "data": {
      "image/png": "[encoded data removed]",
      "text/plain": [
       "<Figure size 576x360 with 1 Axes>"
      ]
     },
     "metadata": {
      "needs_background": "light"
     },
     "output_type": "display_data"
    }
   ],
   "source": [
    "# intervalos de tiempo en meses (un mes se considera como 30 días)\n",
    "meses = list(range(2, 25, 2))[::-1]  # desde 24 hasta 2\n",
    "\n",
    "# listas para guardar los resultados\n",
    "params = []\n",
    "conf_int_lower = []\n",
    "conf_int_upper = []\n",
    "\n",
    "for i in meses:\n",
    "    dias = i * 30  # convierte meses en días\n",
    "\n",
    "    # crea un subconjunto de los datos basado en el rango de tiempo alrededor del inicio de la política\n",
    "    subdata = data.loc[np.abs(data['fecha_centrada']) <= dias]\n",
    "\n",
    "    # ajusta el modelo OLS en el subconjunto de los datos\n",
    "    Y = subdata[\"cantidad\"]\n",
    "    X = subdata[[\"T\", \"P\", \"TP\"]]\n",
    "    X = sm.add_constant(X)\n",
    "    model = sm.OLS(Y, X).fit(cov_type='cluster', cov_kwds={'groups': subdata['comuna']})\n",
    "\n",
    "    # guarda los resultados\n",
    "    params.append(model.params['TP'])\n",
    "    conf_int = model.conf_int().loc['TP']\n",
    "    conf_int_lower.append(conf_int[0])\n",
    "    conf_int_upper.append(conf_int[1])\n",
    "\n",
    "# crear dataframe para los resultados\n",
    "dfresults_plot = pd.DataFrame({'Meses': meses, 'Coeficiente': params, 'II': conf_int_lower, 'IS': conf_int_upper})\n",
    "\n",
    "fig, ax = plt.subplots(1,1,figsize=(8,5)) \n",
    "\n",
    "# intervalos inferior y superior\n",
    "sns.scatterplot(x = dfresults_plot['Meses'], y = dfresults_plot['II'], color = \"black\", marker = \"_\", s = 80, edgecolor='black', linewidth=2)\n",
    "sns.scatterplot(x = dfresults_plot['Meses'], y = dfresults_plot['IS'], color = \"black\", marker = \"_\", s = 80, edgecolor='black', linewidth=2)\n",
    "\n",
    "# lineas horizontales\n",
    "for _, row in dfresults_plot.iterrows():\n",
    "    plt.plot((row['Meses'], row['Meses']), (row['II'], row['IS']), c='black')\n",
    "\n",
    "# valor del coeficiente\n",
    "sns.scatterplot(x = dfresults_plot['Meses'], y = dfresults_plot['Coeficiente'], color = \"dimgray\", marker = \"o\", s = 80, edgecolor='dimgray', linewidth=2)\n",
    "\n",
    "# lineas\n",
    "ax.axhline(0, color='gray', linestyle='--', lw=1)\n",
    "# ax.axvline(0, color='red', linestyle='--', lw=1)\n",
    "\n",
    "# ajustar los ticks del eje x\n",
    "# ax.set_xticks(ax.get_xticks()[::1])\n",
    "\n",
    "plt.xlabel(\"Meses\")\n",
    "plt.ylabel(\"Coeficiente\")\n",
    "\n",
    "# condiciones\n",
    "ax.set_ylim([-1, 1])\n",
    "ax.set_xlim([0, 26])\n",
    "plt.xticks(rotation=90)\n",
    "\n",
    "# guardamos la imagen y la tabla\n",
    "plt.savefig(f\"3_IMAGENES/ROLLING_{MOVIL}_{delito}.jpeg\", dpi = 200)\n",
    "# dfresults_plot.to_excel(f\"4_TABLAS/ES_{MOVIL}_{delito}.xlsx\")\n",
    "\n",
    "# mostramos la grafica\n",
    "plt.show()\n"
   ]
  },
  {
   "attachments": {},
   "cell_type": "markdown",
   "metadata": {},
   "source": [
    "#### DiD: TWFE (Con efectos fijos)"
   ]
  },
  {
   "cell_type": "code",
   "execution_count": null,
   "metadata": {},
   "outputs": [],
   "source": [
    "#ESTIMACIÓN\n",
    "formula = \"cantidad ~ TP + C(comuna)+ C(dian)+ C(semanan)+ C(mesn)\"\n",
    "dd = smf.ols(formula, data=data).fit(cov_type=\"cluster\", cov_kwds={\"groups\": data[\"comuna\"]})\n",
    "\n",
    "#TABLA\n",
    "param = round(dd.params[\"TP\"],4)\n",
    "error = round(dd.bse[\"TP\"],4)\n",
    "estrella =  reemplazar_texto(dd.pvalues[\"TP\"])\n",
    "tfinal = f\"{param} ({error}){estrella}\"\n",
    "\n",
    "tabla_reg.loc[\"DD de efectos fijos\", \"TODOS\"] = \"\"\n",
    "tabla_reg.loc[\"TWFE\", \"TODOS\"] = tfinal"
   ]
  },
  {
   "cell_type": "markdown",
   "metadata": {},
   "source": [
    "#### DiD: Estudio de eventos"
   ]
  },
  {
   "cell_type": "markdown",
   "metadata": {},
   "source": [
    "Saltos"
   ]
  },
  {
   "cell_type": "code",
   "execution_count": null,
   "metadata": {},
   "outputs": [],
   "source": [
    "#2 MESES\n",
    "saltos = 56 \n",
    "\n",
    "#LEADS Y LAGS\n",
    "leads = [i for i in range(saltos,731,saltos)]\n",
    "lags = [-i for i in leads][1::][::-1]\n",
    "ltotal = lags + leads\n",
    "\n",
    "#ECUACIÓN\n",
    "tp = \"\"\n",
    "coefs = []\n",
    "fecha_i = []\n",
    "\n",
    "for i in ltotal:\n",
    "    x = f\"T_{i}\".replace(\"-\", \"M\")\n",
    "    data[x] = data[\"fecha_centrada\"].apply(lambda x: 1 if x>i else 0)\n",
    "    tp = tp + x + \"+\"\n",
    "    coefs.append(x)\n",
    "    fecha_i.append(i)\n",
    "\n",
    "tp = tp[::-1][1:][::-1]\n",
    "\n",
    "#ESTIMACIÓN\n",
    "formula = f\"cantidad ~ C(comuna)+ C(dian)+ C(semanan)+ C(mesn)+{tp}\"\n",
    "dd = smf.ols(formula, data=data).fit(cov_type=\"cluster\", cov_kwds={\"groups\": data[\"comuna\"]})"
   ]
  },
  {
   "cell_type": "code",
   "execution_count": null,
   "metadata": {},
   "outputs": [],
   "source": [
    "coefsd = pd.DataFrame(index = coefs, columns = [\"II\", \"T\", \"IS\", \"P\", \"SE\"])\n",
    "\n",
    "for coef in coefs:\n",
    "    coefsd.loc[coef, \"II\"], coefsd.loc[coef, \"IS\"] = dd.conf_int().loc[coef]\n",
    "    coefsd.loc[coef, \"T\"] = dd.params[coef]\n",
    "    coefsd.loc[coef, \"P\"] = dd.pvalues[coef]\n",
    "    coefsd.loc[coef, \"SE\"] = dd.bse[coef]\n",
    "\n",
    "coefsd.index = [int(i/28) for i in ltotal]\n",
    "\n",
    "####################################\n",
    "####################################\n",
    "\n",
    "\n",
    "#AÑADIR VALORES A LA TABLA\n",
    "for i in coefsd.index[:]:\n",
    "\n",
    "    param = round(coefsd.loc[i, \"T\"],4)\n",
    "    error = round(coefsd.loc[i, \"SE\"],4)\n",
    "    estrella =  reemplazar_texto(coefsd.loc[i, \"P\"])\n",
    "    tfinal = f\"{param} ({error}){estrella}\"\n",
    "\n",
    "    tabla_reg.loc[\"DD Event Study\", \"TODOS\"] = \"\"\n",
    "    tabla_reg.loc[i, \"TODOS\"] = tfinal\n",
    "\n",
    "\n",
    "tabla_reg.loc[\"\", \"TODOS\"] = \"\"\n",
    "tabla_reg.loc[\"N (comunas)\", \"TODOS\"] = 7\n",
    "tabla_reg.loc[\"N (comunas x días)\", \"TODOS\"] = 7*(365*4)"
   ]
  },
  {
   "cell_type": "markdown",
   "metadata": {},
   "source": [
    "Gráfica"
   ]
  },
  {
   "cell_type": "code",
   "execution_count": null,
   "metadata": {},
   "outputs": [],
   "source": [
    "fig, ax = plt.subplots(1,1,figsize=(8,5)) \n",
    "\n",
    "tupla_n = list(zip(coefsd.II, coefsd.IS))\n",
    "\n",
    "#INTERVALO INFERIOR\n",
    "sns.scatterplot(x = coefsd.index, y = coefsd.II,\n",
    "    color = \"black\", marker = \"_\", s = 80, edgecolor='black', linewidth=2)\n",
    "#INTERVLO SUPERIOR\n",
    "sns.scatterplot(x = coefsd.index, y = coefsd.IS,\n",
    "    color = \"black\", marker = \"_\", s = 80, edgecolor='black', linewidth=2)\n",
    "\n",
    "#LINEAS HORIZONTALES\n",
    "plt.plot((coefsd.index,coefsd.index),([i for (i,j) in tupla_n], [j for (i,j) in tupla_n]),c='black')\n",
    "\n",
    "#VALOR COEFICIENTE\n",
    "sns.scatterplot(x = coefsd.index, y = coefsd[\"T\"],\n",
    "    color = \"dimgray\", marker = \"o\", s = 80, edgecolor='dimgray', linewidth=2)\n",
    "#LINEAS\n",
    "ax.axhline(0, color='gray', linestyle='--', lw=1)\n",
    "ax.axvline(0, color='red', linestyle='--', lw=1)\n",
    "ax.set_xticks(ax.get_xticks()[:10:1])\n",
    "plt.xlabel(\"Meses\")\n",
    "plt.ylabel(\"Coeficiente\")\n",
    "\n",
    "#CONDICIONES\n",
    "ax.set_ylim([-1, 1])\n",
    "plt.xticks(rotation=90)\n",
    "plt.savefig(f\"3_IMAGENES/ES_{MOVIL}_{delito}.jpeg\", dpi = 200)\n",
    "tabla_reg.to_excel(f\"4_TABLAS/ES_{MOVIL}_{delito}.xlsx\")"
   ]
  },
  {
   "cell_type": "code",
   "execution_count": null,
   "metadata": {},
   "outputs": [],
   "source": []
  }
 ],
 "metadata": {
  "interpreter": {
   "hash": "06cb5fed7a19db1a3b234843391dc1a69eede94e92f070202b04797e91c1cb37"
  },
  "kernelspec": {
   "display_name": "Python 3.8.5 64-bit ('base': conda)",
   "name": "python3"
  },
  "language_info": {
   "codemirror_mode": {
    "name": "ipython",
    "version": 3
   },
   "file_extension": ".py",
   "mimetype": "text/x-python",
   "name": "python",
   "nbconvert_exporter": "python",
   "pygments_lexer": "ipython3",
   "version": "3.8.5"
  },
  "orig_nbformat": 2
 },
 "nbformat": 4,
 "nbformat_minor": 2
}
